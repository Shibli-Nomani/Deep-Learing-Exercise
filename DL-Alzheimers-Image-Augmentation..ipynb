{
 "cells": [
  {
   "cell_type": "code",
   "execution_count": 30,
   "id": "630a81d3-9d85-4d1e-9b0a-c703ad45c768",
   "metadata": {},
   "outputs": [],
   "source": [
    "import matplotlib.pyplot as plt #plotting\n",
    "import numpy as np\n",
    "import os #to access directory\n",
    "from tqdm import tqdm #counting files\n",
    "#Data Genaration\n",
    "from keras.preprocessing.image import ImageDataGenerator #for generate transformation of images\n",
    "\n",
    "\n",
    "import cv2\n",
    "import io #input/ouput from local\n",
    "from sklearn.utils import shuffle #shuffles matrics randomly with continuation of same pattern\n",
    "from tensorflow.keras.preprocessing.image import ImageDataGenerator  #augmentation, annotation\n",
    "\n",
    "\n"
   ]
  },
  {
   "cell_type": "code",
   "execution_count": 31,
   "id": "e9006d7b-eaa3-4bf0-ab1b-31861a9a7111",
   "metadata": {},
   "outputs": [],
   "source": [
    "#labels based on classwise folder name in directory\n",
    "labels=[\"Final AD JPEG\", \"Final CN JPEG\", \"Final EMCI JPEG\", \"Final LMCI JPEG\", \"Final MCI JPEG\"]"
   ]
  },
  {
   "cell_type": "code",
   "execution_count": 32,
   "id": "9f36fd51-a909-433c-9d28-8f51a49aeace",
   "metadata": {},
   "outputs": [],
   "source": [
    "datagen = ImageDataGenerator(        \n",
    "        rotation_range = 45,\n",
    "        shear_range = 0.3,\n",
    "        zoom_range = 0.3,\n",
    "        horizontal_flip = True,\n",
    "        brightness_range = (0.5, 1.5))"
   ]
  },
  {
   "cell_type": "code",
   "execution_count": 33,
   "id": "b6dd952a-51c5-4a7d-81f4-21cc58b37835",
   "metadata": {},
   "outputs": [],
   "source": [
    "\n",
    "def trainImageGenarator(class_folder, img_gen_directory, image_prefix):\n",
    "\n",
    "    image_size=226\n",
    "    folderDirectory = os.path.join(\"Alzheimers-ADNI\", \"train\", class_folder) #tagging labels by i\n",
    "    for j in tqdm(os.listdir(folderDirectory)):\n",
    "        image=cv2.imread(os.path.join(folderDirectory, j)) #image to array\n",
    "        image= cv2.cvtColor(image, cv2.COLOR_BGR2RGB)\n",
    "        image=cv2.resize(image, (image_size, image_size))\n",
    "        image= image.reshape(1,image_size, image_size, 3)\n",
    "    \n",
    "        k=0\n",
    "        for batch in datagen.flow(np.array(image), batch_size=32,\n",
    "                          save_to_dir= img_gen_directory,\n",
    "                          save_prefix=image_prefix,\n",
    "                          save_format='jpg'):\n",
    "            k += 1 \n",
    "            if k > 5:\n",
    "                break\n",
    "    "
   ]
  },
  {
   "cell_type": "code",
   "execution_count": 34,
   "id": "99d3df56-9b6a-4e29-a578-441e5e9480d6",
   "metadata": {},
   "outputs": [
    {
     "name": "stderr",
     "output_type": "stream",
     "text": [
      "100%|██████████| 145/145 [00:25<00:00,  5.70it/s]\n",
      "100%|██████████| 493/493 [01:26<00:00,  5.67it/s]\n",
      "100%|██████████| 204/204 [00:36<00:00,  5.60it/s]\n",
      "100%|██████████| 61/61 [00:09<00:00,  6.13it/s]\n",
      "100%|██████████| 198/198 [00:33<00:00,  5.89it/s]\n"
     ]
    }
   ],
   "source": [
    "path=\"Alzheimers-ADNI/train_new/Final AD JPEG\"\n",
    "trainImageGenarator(\"Final AD JPEG\", path, \"Final AD JPEG\")\n",
    "\n",
    "path=\"Alzheimers-ADNI/train_new/Final CN JPEG\"\n",
    "trainImageGenarator(\"Final CN JPEG\", path, \"Final CN JPEG\")\n",
    "\n",
    "path=\"Alzheimers-ADNI/train_new/Final EMCI JPEG\"\n",
    "trainImageGenarator(\"Final EMCI JPEG\", path, \"Final EMCI JPEG\")\n",
    "\n",
    "path=\"Alzheimers-ADNI/train_new/Final LMCI JPEG\"\n",
    "trainImageGenarator(\"Final LMCI JPEG\", path, \"Final LMCI JPEG\")\n",
    "\n",
    "path=\"Alzheimers-ADNI/train_new/Final MCI JPEG\"\n",
    "trainImageGenarator(\"Final MCI JPEG\", path, \"Final MCI JPEG\")\n"
   ]
  },
  {
   "cell_type": "code",
   "execution_count": 35,
   "id": "dfeb4f03-8470-45b1-9f61-aef4145813a1",
   "metadata": {},
   "outputs": [],
   "source": [
    "\n",
    "def testImageGenarator(class_folder, img_gen_directory, image_prefix):\n",
    "\n",
    "    image_size=226\n",
    "    folderDirectory = os.path.join(\"Alzheimers-ADNI\", \"test\", class_folder) #tagging labels by i\n",
    "    for j in tqdm(os.listdir(folderDirectory)):\n",
    "        image=cv2.imread(os.path.join(folderDirectory, j)) #image to array\n",
    "        image= cv2.cvtColor(image, cv2.COLOR_BGR2RGB)\n",
    "        image=cv2.resize(image, (image_size, image_size))\n",
    "        image= image.reshape(1,image_size, image_size, 3)\n",
    "    \n",
    "        k=0\n",
    "        for batch in datagen.flow(np.array(image), batch_size=32,\n",
    "                          save_to_dir= img_gen_directory,\n",
    "                          save_prefix=image_prefix,\n",
    "                          save_format='jpg'):\n",
    "            k += 1 \n",
    "            if k > 5:\n",
    "                break\n",
    "    "
   ]
  },
  {
   "cell_type": "code",
   "execution_count": 36,
   "id": "843fe694-d59f-4427-94e5-05d5517317cb",
   "metadata": {},
   "outputs": [
    {
     "name": "stderr",
     "output_type": "stream",
     "text": [
      "100%|██████████| 26/26 [00:04<00:00,  5.39it/s]\n",
      "100%|██████████| 87/87 [00:15<00:00,  5.51it/s]\n",
      "100%|██████████| 36/36 [00:05<00:00,  6.98it/s]\n",
      "100%|██████████| 11/11 [00:01<00:00,  7.11it/s]\n",
      "100%|██████████| 35/35 [00:06<00:00,  5.48it/s]\n"
     ]
    }
   ],
   "source": [
    "path=\"Alzheimers-ADNI/test_new/Final AD JPEG\"\n",
    "testImageGenarator(\"Final AD JPEG\", path, \"Final AD JPEG\")\n",
    "\n",
    "path=\"Alzheimers-ADNI/test_new/Final CN JPEG\"\n",
    "testImageGenarator(\"Final CN JPEG\", path, \"Final CN JPEG\")\n",
    "\n",
    "path=\"Alzheimers-ADNI/test_new/Final EMCI JPEG\"\n",
    "testImageGenarator(\"Final EMCI JPEG\", path, \"Final EMCI JPEG\")\n",
    "\n",
    "path=\"Alzheimers-ADNI/test_new/Final LMCI JPEG\"\n",
    "testImageGenarator(\"Final LMCI JPEG\", path, \"Final LMCI JPEG\")\n",
    "\n",
    "path=\"Alzheimers-ADNI/test_new/Final MCI JPEG\"\n",
    "testImageGenarator(\"Final MCI JPEG\", path, \"Final MCI JPEG\")\n"
   ]
  },
  {
   "cell_type": "code",
   "execution_count": null,
   "id": "008ca478-fa30-4a4d-b81f-5b78605e28ba",
   "metadata": {},
   "outputs": [],
   "source": []
  }
 ],
 "metadata": {
  "kernelspec": {
   "display_name": "Python 3 (ipykernel)",
   "language": "python",
   "name": "python3"
  },
  "language_info": {
   "codemirror_mode": {
    "name": "ipython",
    "version": 3
   },
   "file_extension": ".py",
   "mimetype": "text/x-python",
   "name": "python",
   "nbconvert_exporter": "python",
   "pygments_lexer": "ipython3",
   "version": "3.10.4"
  }
 },
 "nbformat": 4,
 "nbformat_minor": 5
}
