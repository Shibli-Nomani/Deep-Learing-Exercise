{
  "nbformat": 4,
  "nbformat_minor": 0,
  "metadata": {
    "colab": {
      "name": "task-01-activation-function-DeepLearning.ipynb",
      "provenance": [],
      "authorship_tag": "ABX9TyPVuxPAPltdwUGaY7F6MiwO",
      "include_colab_link": true
    },
    "kernelspec": {
      "name": "python3",
      "display_name": "Python 3"
    },
    "language_info": {
      "name": "python"
    }
  },
  "cells": [
    {
      "cell_type": "markdown",
      "metadata": {
        "id": "view-in-github",
        "colab_type": "text"
      },
      "source": [
        "<a href=\"https://colab.research.google.com/github/Shibli-Nomani/Deep-Learing-Exercise/blob/main/task_01_activation_function_DeepLearning.ipynb\" target=\"_parent\"><img src=\"https://colab.research.google.com/assets/colab-badge.svg\" alt=\"Open In Colab\"/></a>"
      ]
    },
    {
      "cell_type": "markdown",
      "source": [
        "**Activation Function of Deep Learning**\n",
        "1. Linear: Regression \n",
        "2. Relu: Nonlinear\n",
        "3. Sigmoid: NonLinear. Binary \n",
        "4. tanh:  Nonlinear. Two classes\n",
        "5. Softmax: Nonlinear. Multiclass"
      ],
      "metadata": {
        "id": "yaQPJ8ugyau-"
      }
    },
    {
      "cell_type": "markdown",
      "source": [
        "**1. Linear Activation Function**"
      ],
      "metadata": {
        "id": "QoxxEWJM12R8"
      }
    },
    {
      "cell_type": "code",
      "source": [
        "import math\n",
        "import numpy as np\n",
        "import matplotlib.pyplot as plt\n",
        "%matplotlib inline"
      ],
      "metadata": {
        "id": "4lmg2gFx15nk"
      },
      "execution_count": 5,
      "outputs": []
    },
    {
      "cell_type": "code",
      "source": [
        "def linearnumber(number):\n",
        "  a=[]\n",
        "  for i in number:\n",
        "    a.append(i) #add number in list a\n",
        "  return a\n"
      ],
      "metadata": {
        "id": "cRet6csD2xFH"
      },
      "execution_count": 64,
      "outputs": []
    },
    {
      "cell_type": "code",
      "source": [
        "randomNumber =  np.arange(-10.0, 10.0, 0.1) # select range for continiues value"
      ],
      "metadata": {
        "id": "v13UMmrEAD4Y"
      },
      "execution_count": 67,
      "outputs": []
    },
    {
      "cell_type": "code",
      "source": [
        "print(linearnumber(randomNumber))"
      ],
      "metadata": {
        "colab": {
          "base_uri": "https://localhost:8080/"
        },
        "id": "MpAxM2Gg3Xfe",
        "outputId": "25c33c5a-dfef-479e-d607-a700bbbe933c"
      },
      "execution_count": 68,
      "outputs": [
        {
          "output_type": "stream",
          "name": "stdout",
          "text": [
            "[-10.0, -9.9, -9.8, -9.700000000000001, -9.600000000000001, -9.500000000000002, -9.400000000000002, -9.300000000000002, -9.200000000000003, -9.100000000000003, -9.000000000000004, -8.900000000000004, -8.800000000000004, -8.700000000000005, -8.600000000000005, -8.500000000000005, -8.400000000000006, -8.300000000000006, -8.200000000000006, -8.100000000000007, -8.000000000000007, -7.9000000000000075, -7.800000000000008, -7.700000000000008, -7.6000000000000085, -7.500000000000009, -7.400000000000009, -7.30000000000001, -7.20000000000001, -7.10000000000001, -7.000000000000011, -6.900000000000011, -6.800000000000011, -6.700000000000012, -6.600000000000012, -6.500000000000012, -6.400000000000013, -6.300000000000013, -6.2000000000000135, -6.100000000000014, -6.000000000000014, -5.900000000000015, -5.800000000000015, -5.700000000000015, -5.600000000000016, -5.500000000000016, -5.400000000000016, -5.300000000000017, -5.200000000000017, -5.100000000000017, -5.000000000000018, -4.900000000000018, -4.8000000000000185, -4.700000000000019, -4.600000000000019, -4.5000000000000195, -4.40000000000002, -4.30000000000002, -4.200000000000021, -4.100000000000021, -4.000000000000021, -3.9000000000000217, -3.800000000000022, -3.7000000000000224, -3.6000000000000227, -3.500000000000023, -3.4000000000000234, -3.300000000000024, -3.200000000000024, -3.1000000000000245, -3.000000000000025, -2.9000000000000252, -2.8000000000000256, -2.700000000000026, -2.6000000000000263, -2.5000000000000266, -2.400000000000027, -2.3000000000000274, -2.2000000000000277, -2.100000000000028, -2.0000000000000284, -1.9000000000000288, -1.8000000000000291, -1.7000000000000295, -1.6000000000000298, -1.5000000000000302, -1.4000000000000306, -1.300000000000031, -1.2000000000000313, -1.1000000000000316, -1.000000000000032, -0.9000000000000323, -0.8000000000000327, -0.700000000000033, -0.6000000000000334, -0.5000000000000338, -0.4000000000000341, -0.30000000000003446, -0.20000000000003482, -0.10000000000003517, -3.552713678800501e-14, 0.09999999999996412, 0.19999999999996376, 0.2999999999999634, 0.39999999999996305, 0.4999999999999627, 0.5999999999999623, 0.699999999999962, 0.7999999999999616, 0.8999999999999613, 0.9999999999999609, 1.0999999999999606, 1.1999999999999602, 1.2999999999999599, 1.3999999999999595, 1.4999999999999591, 1.5999999999999588, 1.6999999999999584, 1.799999999999958, 1.8999999999999577, 1.9999999999999574, 2.099999999999957, 2.1999999999999567, 2.2999999999999563, 2.399999999999956, 2.4999999999999556, 2.5999999999999552, 2.699999999999955, 2.7999999999999545, 2.899999999999954, 2.999999999999954, 3.0999999999999535, 3.199999999999953, 3.2999999999999527, 3.3999999999999524, 3.499999999999952, 3.5999999999999517, 3.6999999999999513, 3.799999999999951, 3.8999999999999506, 3.9999999999999503, 4.09999999999995, 4.1999999999999496, 4.299999999999949, 4.399999999999949, 4.4999999999999485, 4.599999999999948, 4.699999999999948, 4.799999999999947, 4.899999999999947, 4.999999999999947, 5.099999999999946, 5.199999999999946, 5.299999999999946, 5.399999999999945, 5.499999999999945, 5.599999999999945, 5.699999999999944, 5.799999999999944, 5.8999999999999435, 5.999999999999943, 6.099999999999945, 6.1999999999999424, 6.29999999999994, 6.399999999999942, 6.499999999999943, 6.599999999999941, 6.699999999999939, 6.79999999999994, 6.899999999999942, 6.99999999999994, 7.0999999999999375, 7.199999999999939, 7.29999999999994, 7.399999999999938, 7.499999999999936, 7.5999999999999375, 7.699999999999939, 7.799999999999937, 7.899999999999935, 7.999999999999936, 8.099999999999937, 8.199999999999935, 8.299999999999933, 8.399999999999935, 8.499999999999936, 8.599999999999934, 8.699999999999932, 8.799999999999933, 8.899999999999935, 8.999999999999932, 9.09999999999993, 9.199999999999932, 9.299999999999933, 9.399999999999931, 9.499999999999929, 9.59999999999993, 9.699999999999932, 9.79999999999993, 9.899999999999928]\n"
          ]
        }
      ]
    },
    {
      "cell_type": "code",
      "source": [
        "linearline=linearnumber(randomNumber)\n",
        "plt.plot(randomNumber, linearline)\n",
        "ax =plt.gca()\n",
        "plt.show()"
      ],
      "metadata": {
        "colab": {
          "base_uri": "https://localhost:8080/",
          "height": 265
        },
        "id": "xLYeOA5J35L7",
        "outputId": "72fb1ee5-132a-4c4e-ab40-603571db9336"
      },
      "execution_count": 70,
      "outputs": [
        {
          "output_type": "display_data",
          "data": {
            "text/plain": [
              "<Figure size 432x288 with 1 Axes>"
            ],
            "image/png": "[encoded data removed]"
          },
          "metadata": {
            "needs_background": "light"
          }
        }
      ]
    },
    {
      "cell_type": "markdown",
      "source": [
        "**2. Relu Activation Function**"
      ],
      "metadata": {
        "id": "NbStci514s-8"
      }
    },
    {
      "cell_type": "code",
      "source": [
        "import math \n",
        "import numpy as np # Linear algebra\n",
        "import matplotlib.pyplot as plt\n",
        "%matplotlib inline"
      ],
      "metadata": {
        "id": "RBh92b7i4v-1"
      },
      "execution_count": 80,
      "outputs": []
    },
    {
      "cell_type": "code",
      "source": [
        "def relu_activationFunction(number):\n",
        "    \n",
        "    b = []# list for stroing Value\n",
        "    # condition\n",
        "    for i in number:\n",
        "        initialValue = 0 \n",
        "        if i > 0:\n",
        "            initialValue = i\n",
        "        b.append(initialValue)\n",
        "    return b"
      ],
      "metadata": {
        "id": "o43PonCR5GQM"
      },
      "execution_count": 82,
      "outputs": []
    },
    {
      "cell_type": "code",
      "source": [
        "randomNumber =  np.arange(-10.0, 10.0, 0.1) # select range for continiues value\n",
        "print(randomNumber)"
      ],
      "metadata": {
        "colab": {
          "base_uri": "https://localhost:8080/"
        },
        "id": "c-RwiV7iFXt1",
        "outputId": "e4a89f25-4592-4768-e40f-4a882da2a43f"
      },
      "execution_count": 83,
      "outputs": [
        {
          "output_type": "stream",
          "name": "stdout",
          "text": [
            "[-1.00000000e+01 -9.90000000e+00 -9.80000000e+00 -9.70000000e+00\n",
            " -9.60000000e+00 -9.50000000e+00 -9.40000000e+00 -9.30000000e+00\n",
            " -9.20000000e+00 -9.10000000e+00 -9.00000000e+00 -8.90000000e+00\n",
            " -8.80000000e+00 -8.70000000e+00 -8.60000000e+00 -8.50000000e+00\n",
            " -8.40000000e+00 -8.30000000e+00 -8.20000000e+00 -8.10000000e+00\n",
            " -8.00000000e+00 -7.90000000e+00 -7.80000000e+00 -7.70000000e+00\n",
            " -7.60000000e+00 -7.50000000e+00 -7.40000000e+00 -7.30000000e+00\n",
            " -7.20000000e+00 -7.10000000e+00 -7.00000000e+00 -6.90000000e+00\n",
            " -6.80000000e+00 -6.70000000e+00 -6.60000000e+00 -6.50000000e+00\n",
            " -6.40000000e+00 -6.30000000e+00 -6.20000000e+00 -6.10000000e+00\n",
            " -6.00000000e+00 -5.90000000e+00 -5.80000000e+00 -5.70000000e+00\n",
            " -5.60000000e+00 -5.50000000e+00 -5.40000000e+00 -5.30000000e+00\n",
            " -5.20000000e+00 -5.10000000e+00 -5.00000000e+00 -4.90000000e+00\n",
            " -4.80000000e+00 -4.70000000e+00 -4.60000000e+00 -4.50000000e+00\n",
            " -4.40000000e+00 -4.30000000e+00 -4.20000000e+00 -4.10000000e+00\n",
            " -4.00000000e+00 -3.90000000e+00 -3.80000000e+00 -3.70000000e+00\n",
            " -3.60000000e+00 -3.50000000e+00 -3.40000000e+00 -3.30000000e+00\n",
            " -3.20000000e+00 -3.10000000e+00 -3.00000000e+00 -2.90000000e+00\n",
            " -2.80000000e+00 -2.70000000e+00 -2.60000000e+00 -2.50000000e+00\n",
            " -2.40000000e+00 -2.30000000e+00 -2.20000000e+00 -2.10000000e+00\n",
            " -2.00000000e+00 -1.90000000e+00 -1.80000000e+00 -1.70000000e+00\n",
            " -1.60000000e+00 -1.50000000e+00 -1.40000000e+00 -1.30000000e+00\n",
            " -1.20000000e+00 -1.10000000e+00 -1.00000000e+00 -9.00000000e-01\n",
            " -8.00000000e-01 -7.00000000e-01 -6.00000000e-01 -5.00000000e-01\n",
            " -4.00000000e-01 -3.00000000e-01 -2.00000000e-01 -1.00000000e-01\n",
            " -3.55271368e-14  1.00000000e-01  2.00000000e-01  3.00000000e-01\n",
            "  4.00000000e-01  5.00000000e-01  6.00000000e-01  7.00000000e-01\n",
            "  8.00000000e-01  9.00000000e-01  1.00000000e+00  1.10000000e+00\n",
            "  1.20000000e+00  1.30000000e+00  1.40000000e+00  1.50000000e+00\n",
            "  1.60000000e+00  1.70000000e+00  1.80000000e+00  1.90000000e+00\n",
            "  2.00000000e+00  2.10000000e+00  2.20000000e+00  2.30000000e+00\n",
            "  2.40000000e+00  2.50000000e+00  2.60000000e+00  2.70000000e+00\n",
            "  2.80000000e+00  2.90000000e+00  3.00000000e+00  3.10000000e+00\n",
            "  3.20000000e+00  3.30000000e+00  3.40000000e+00  3.50000000e+00\n",
            "  3.60000000e+00  3.70000000e+00  3.80000000e+00  3.90000000e+00\n",
            "  4.00000000e+00  4.10000000e+00  4.20000000e+00  4.30000000e+00\n",
            "  4.40000000e+00  4.50000000e+00  4.60000000e+00  4.70000000e+00\n",
            "  4.80000000e+00  4.90000000e+00  5.00000000e+00  5.10000000e+00\n",
            "  5.20000000e+00  5.30000000e+00  5.40000000e+00  5.50000000e+00\n",
            "  5.60000000e+00  5.70000000e+00  5.80000000e+00  5.90000000e+00\n",
            "  6.00000000e+00  6.10000000e+00  6.20000000e+00  6.30000000e+00\n",
            "  6.40000000e+00  6.50000000e+00  6.60000000e+00  6.70000000e+00\n",
            "  6.80000000e+00  6.90000000e+00  7.00000000e+00  7.10000000e+00\n",
            "  7.20000000e+00  7.30000000e+00  7.40000000e+00  7.50000000e+00\n",
            "  7.60000000e+00  7.70000000e+00  7.80000000e+00  7.90000000e+00\n",
            "  8.00000000e+00  8.10000000e+00  8.20000000e+00  8.30000000e+00\n",
            "  8.40000000e+00  8.50000000e+00  8.60000000e+00  8.70000000e+00\n",
            "  8.80000000e+00  8.90000000e+00  9.00000000e+00  9.10000000e+00\n",
            "  9.20000000e+00  9.30000000e+00  9.40000000e+00  9.50000000e+00\n",
            "  9.60000000e+00  9.70000000e+00  9.80000000e+00  9.90000000e+00]\n"
          ]
        }
      ]
    },
    {
      "cell_type": "code",
      "source": [
        "relu_line = relu_activationFunction(randomMNumber)\n",
        "plt.plot(randomMNumber, relu_line)\n",
        "\n",
        "# axis\n",
        "ax =plt.gca()\n",
        "plt.show()"
      ],
      "metadata": {
        "colab": {
          "base_uri": "https://localhost:8080/",
          "height": 265
        },
        "id": "7qxgbQb67oEO",
        "outputId": "86c1c1e6-b4a6-4c9c-8383-707a0c134e3f"
      },
      "execution_count": 84,
      "outputs": [
        {
          "output_type": "display_data",
          "data": {
            "text/plain": [
              "<Figure size 432x288 with 1 Axes>"
            ],
            "image/png": "[encoded data removed]"
          },
          "metadata": {
            "needs_background": "light"
          }
        }
      ]
    },
    {
      "cell_type": "markdown",
      "source": [
        "**3. Sigmoid Action Function**"
      ],
      "metadata": {
        "id": "TkO1B32BAWeB"
      }
    },
    {
      "cell_type": "code",
      "source": [
        "def sigmoid_activationFunction(number):\n",
        "  sigmoid_value=[]\n",
        "  for i in number:\n",
        "    each_value = 1/(1+ math.exp(-i))\n",
        "    sigmoid_value.append(each_value)\n",
        "  return sigmoid_value\n",
        "\n"
      ],
      "metadata": {
        "id": "YalTxyKSAeNW"
      },
      "execution_count": 85,
      "outputs": []
    },
    {
      "cell_type": "code",
      "source": [
        "randomNumber =  np.arange(-10.0, 10.0, 0.1) # select range for continiues value"
      ],
      "metadata": {
        "id": "z7h63GjmErot"
      },
      "execution_count": 86,
      "outputs": []
    },
    {
      "cell_type": "code",
      "source": [
        "sigmoid_line = sigmoid_activationFunction(randomNumber)\n",
        "plt.plot(randomNumber, sigmoid_line)\n",
        "\n",
        "# axis\n",
        "ax =plt.gca()\n",
        "plt.show()"
      ],
      "metadata": {
        "colab": {
          "base_uri": "https://localhost:8080/",
          "height": 265
        },
        "id": "NUeXzEqCEyjN",
        "outputId": "bcbfe6cc-19e4-4df2-81de-21e135cf126f"
      },
      "execution_count": 87,
      "outputs": [
        {
          "output_type": "display_data",
          "data": {
            "text/plain": [
              "<Figure size 432x288 with 1 Axes>"
            ],
            "image/png": "[encoded data removed]"
          },
          "metadata": {
            "needs_background": "light"
          }
        }
      ]
    },
    {
      "cell_type": "code",
      "source": [
        "v1 = 1/(1+ math.exp(-10))\n",
        "v2 = 1/(1+ math.exp(10))\n",
        "print('for 10, sigmoid value:', v1)\n",
        "print('for -10, sigmoid value:', v2, 'near to zero')"
      ],
      "metadata": {
        "colab": {
          "base_uri": "https://localhost:8080/"
        },
        "id": "Ld_Hq4A0GFTp",
        "outputId": "f55e1167-8d16-4239-941a-3880f4e3b7a5"
      },
      "execution_count": 90,
      "outputs": [
        {
          "output_type": "stream",
          "name": "stdout",
          "text": [
            "for 10, sigmoid value: 0.9999546021312976\n",
            "for -10, sigmoid value: 4.5397868702434395e-05 near to zero\n"
          ]
        }
      ]
    },
    {
      "cell_type": "markdown",
      "source": [
        "**4. tanh(tangent hyperbolic) Activation Function**"
      ],
      "metadata": {
        "id": "lxJCQkg_FiDs"
      }
    },
    {
      "cell_type": "code",
      "source": [
        "def tanh_activationFunction(number):\n",
        "    tanhvalue = []\n",
        "    for i in number:\n",
        "        startValue = 0\n",
        "        if i < 0:\n",
        "            startValue = -1\n",
        "            tanhvalue.append(startValue)\n",
        "        elif i> 0:\n",
        "            startValue = 1\n",
        "            tanhvalue.append(startValue)\n",
        "        \n",
        "    return tanhvalue"
      ],
      "metadata": {
        "id": "Gfd-yGLQM2zW"
      },
      "execution_count": 185,
      "outputs": []
    },
    {
      "cell_type": "code",
      "source": [
        "randomMNumber = np.arange(-10.0, 10.0, 0.1) # continiues value"
      ],
      "metadata": {
        "id": "Wbncuj7vM_dL"
      },
      "execution_count": 186,
      "outputs": []
    },
    {
      "cell_type": "code",
      "source": [
        "tanh_line = tanh_activationFunction(randomMNumber)\n",
        "plt.plot(randomMNumber, tanh_line)\n",
        "\n",
        "# axis\n",
        "ax =plt.gca()\n",
        "plt.show()"
      ],
      "metadata": {
        "colab": {
          "base_uri": "https://localhost:8080/",
          "height": 265
        },
        "id": "xHj6TOl2M36F",
        "outputId": "cb4eb455-e71e-4077-a49e-51eafd809e41"
      },
      "execution_count": 187,
      "outputs": [
        {
          "output_type": "display_data",
          "data": {
            "text/plain": [
              "<Figure size 432x288 with 1 Axes>"
            ],
            "image/png": "[encoded data removed]"
          },
          "metadata": {
            "needs_background": "light"
          }
        }
      ]
    },
    {
      "cell_type": "markdown",
      "source": [
        "**Another way to find tanh activation Function**"
      ],
      "metadata": {
        "id": "0vFTTlemPkE8"
      }
    },
    {
      "cell_type": "code",
      "source": [
        "def tanh_acitvationFunction2(number):\n",
        "  tanh_val = []\n",
        "  for i in number:\n",
        "    tanh_val.append(math.tanh(i))\n",
        "  return tanh_val\n",
        "    \n"
      ],
      "metadata": {
        "id": "-AzWrk56Pw5u"
      },
      "execution_count": 188,
      "outputs": []
    },
    {
      "cell_type": "code",
      "source": [
        "randomMNumber = np.arange(-10.0, 10.0, 0.1) # continiues value"
      ],
      "metadata": {
        "id": "0wrBC5KHQTNr"
      },
      "execution_count": 142,
      "outputs": []
    },
    {
      "cell_type": "code",
      "source": [
        "tanh_plot = tanh_acitvationFunction2(randomMNumber)\n",
        "plt.plot(randomMNumber, tanh_plot)\n",
        "\n",
        "# axis\n",
        "ax =plt.gca()\n",
        "plt.show()"
      ],
      "metadata": {
        "colab": {
          "base_uri": "https://localhost:8080/",
          "height": 265
        },
        "id": "G3fNr8NSQXZG",
        "outputId": "f04431e4-8ffb-4f5e-9b4e-898828f28b40"
      },
      "execution_count": 144,
      "outputs": [
        {
          "output_type": "display_data",
          "data": {
            "text/plain": [
              "<Figure size 432x288 with 1 Axes>"
            ],
            "image/png": "[encoded data removed]"
          },
          "metadata": {
            "needs_background": "light"
          }
        }
      ]
    },
    {
      "cell_type": "markdown",
      "source": [
        "**3rd way to find tanh activation function**"
      ],
      "metadata": {
        "id": "EVOobN1fmWtl"
      }
    },
    {
      "cell_type": "code",
      "source": [
        "def tanh_activationFunction3(number):\n",
        "  tanh_val=[]\n",
        "  for i in number:\n",
        "    each_cal = (2/(1+ math.exp(-2*i)))-1\n",
        "    tanh_val.append(each_cal)\n",
        "  return tanh_val\n"
      ],
      "metadata": {
        "id": "k3wFaIVImeIp"
      },
      "execution_count": 201,
      "outputs": []
    },
    {
      "cell_type": "code",
      "source": [
        "randomMNumber = np.arange(-10.0, 10.0, 0.1) # continiues value"
      ],
      "metadata": {
        "id": "XdPfIcrmmWMm"
      },
      "execution_count": 206,
      "outputs": []
    },
    {
      "cell_type": "code",
      "source": [
        "tanh_plt = tanh_acitvationFunction2(randomMNumber)\n",
        "plt.plot(randomMNumber, tanh_plt)\n",
        "\n",
        "# axis\n",
        "ax =plt.gca()\n",
        "plt.show()"
      ],
      "metadata": {
        "colab": {
          "base_uri": "https://localhost:8080/",
          "height": 265
        },
        "id": "OgdtY0EBnGgW",
        "outputId": "99cb17ce-8e24-4b97-d7b1-c91ecc5b76bb"
      },
      "execution_count": 207,
      "outputs": [
        {
          "output_type": "display_data",
          "data": {
            "text/plain": [
              "<Figure size 432x288 with 1 Axes>"
            ],
            "image/png": "[encoded data removed]"
          },
          "metadata": {
            "needs_background": "light"
          }
        }
      ]
    },
    {
      "cell_type": "markdown",
      "source": [
        "**5. Softmax Activation Function**"
      ],
      "metadata": {
        "id": "TQEfoAAyQtDM"
      }
    },
    {
      "cell_type": "code",
      "source": [
        "from numpy import exp\n",
        "def softmax_activationFunction(number):\n",
        "    e=exp(number)/(exp(number).sum())\n",
        "    return e"
      ],
      "metadata": {
        "id": "-E2VQioORSGt"
      },
      "execution_count": 162,
      "outputs": []
    },
    {
      "cell_type": "code",
      "source": [
        "set=[1,2,3]\n",
        "result = softmax_activationFunction(set)\n",
        "print('Probability of different classes:', result)"
      ],
      "metadata": {
        "colab": {
          "base_uri": "https://localhost:8080/"
        },
        "id": "JgYP_LtVWU6v",
        "outputId": "5dfca51f-502e-4009-f167-8a3ef4f14c5b"
      },
      "execution_count": 195,
      "outputs": [
        {
          "output_type": "stream",
          "name": "stdout",
          "text": [
            "Probability of different classes: [0.09003057 0.24472847 0.66524096]\n"
          ]
        }
      ]
    },
    {
      "cell_type": "code",
      "source": [
        "plt.plot(set, result)\n",
        "\n",
        "# axis\n",
        "ax =plt.gca()\n",
        "plt.show()"
      ],
      "metadata": {
        "colab": {
          "base_uri": "https://localhost:8080/",
          "height": 265
        },
        "id": "45hSwPz9Xw1U",
        "outputId": "aa1e2448-a521-45bc-91ff-439048ff48d8"
      },
      "execution_count": 196,
      "outputs": [
        {
          "output_type": "display_data",
          "data": {
            "text/plain": [
              "<Figure size 432x288 with 1 Axes>"
            ],
            "image/png": "[encoded data removed]"
          },
          "metadata": {
            "needs_background": "light"
          }
        }
      ]
    },
    {
      "cell_type": "markdown",
      "source": [
        "**Another way to find softmax activation function**"
      ],
      "metadata": {
        "id": "Jdz2jmrZYLw9"
      }
    },
    {
      "cell_type": "code",
      "source": [
        "from scipy.special import softmax\n",
        "def softmax_activationFunction2(number):\n",
        "  s=softmax(number)\n",
        "  return s"
      ],
      "metadata": {
        "id": "yMbrrkf8YZGl"
      },
      "execution_count": 197,
      "outputs": []
    },
    {
      "cell_type": "code",
      "source": [
        "category=[1,2,3]\n",
        "results = softmax_activationFunction2(category)\n",
        "print('Probability of different classes:', results)"
      ],
      "metadata": {
        "colab": {
          "base_uri": "https://localhost:8080/"
        },
        "id": "PpwzXDd1Y2YO",
        "outputId": "0ae1d88b-32f6-4171-bfb5-12a0ec4ba9fb"
      },
      "execution_count": 198,
      "outputs": [
        {
          "output_type": "stream",
          "name": "stdout",
          "text": [
            "Probability of different classes: [0.09003057 0.24472847 0.66524096]\n"
          ]
        }
      ]
    },
    {
      "cell_type": "code",
      "source": [
        "plt.plot(category, results)\n",
        "\n",
        "# axis\n",
        "ax =plt.gca()\n",
        "plt.show()"
      ],
      "metadata": {
        "colab": {
          "base_uri": "https://localhost:8080/",
          "height": 265
        },
        "id": "tSP5rUYqZKRn",
        "outputId": "243f38e7-f562-451f-9bd9-f9901b3d43b0"
      },
      "execution_count": 199,
      "outputs": [
        {
          "output_type": "display_data",
          "data": {
            "text/plain": [
              "<Figure size 432x288 with 1 Axes>"
            ],
            "image/png": "[encoded data removed]"
          },
          "metadata": {
            "needs_background": "light"
          }
        }
      ]
    }
  ]
}